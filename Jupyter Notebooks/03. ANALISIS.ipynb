{
 "cells": [
  {
   "cell_type": "markdown",
   "metadata": {},
   "source": [
    "## Análisis computacional"
   ]
  },
  {
   "cell_type": "markdown",
   "metadata": {},
   "source": [
    "Importamos las librerias mecesarias"
   ]
  },
  {
   "cell_type": "code",
   "execution_count": 1,
   "metadata": {},
   "outputs": [],
   "source": [
    "import numpy as np\n",
    "import pandas as pd\n",
    "import matplotlib.pyplot as plt\n",
    "plt.style.use('seaborn')"
   ]
  },
  {
   "cell_type": "markdown",
   "metadata": {},
   "source": [
    "Algunas funciones para extraer conclusiones"
   ]
  },
  {
   "cell_type": "code",
   "execution_count": 3,
   "metadata": {},
   "outputs": [],
   "source": [
    "def time_series_S1(key, name, direc, base, markI, markII, loc = 0, show = False):\n",
    "    '''\n",
    "    Representacion grafica de las series temporales del S1\n",
    "    Para las tres configuraciones paramétricas\n",
    "    '''\n",
    "    \n",
    "    base[key].iloc[loc:].plot(label = 'Base', xticks = [loc, 1000,  2000,  3000,  4000,5000])\n",
    "    markI[key].iloc[loc:].plot(label = 'Mark 1', xticks = [loc, 1000,  2000,  3000,  4000,5000])\n",
    "    markII[key].iloc[loc:].plot(label = 'Mark 2', xticks = [loc, 1000,  2000,  3000,  4000,5000])\n",
    "    #plt.title(key + ' S1')\n",
    "    plt.legend()\n",
    "    plt.xlabel('t')\n",
    "    plt.ylabel(name)\n",
    "    plt.xlim(xmin = loc)\n",
    "    if show == True:\n",
    "        plt.show()\n",
    "    else:\n",
    "        plt.savefig(direc + '/' + key.replace(\" \", \"\") + 'S1.jpg', dpi = 500)\n",
    "    plt.close()\n",
    "    \n",
    "def time_series_S2(key, name, direc, base, markI, markII, loc = 0, show = False):\n",
    "    '''\n",
    "    Representacion grafica para las series temporales del S2\n",
    "    Para las tres configuraciones parametricas\n",
    "    '''\n",
    "    \n",
    "    base[key].iloc[loc:].plot(label = 'Base', xticks = [loc, 1000,  2000,  3000,  4000,5000])\n",
    "    markI[key].iloc[loc:].plot(label = 'Mark 1', xticks = [loc, 1000,  2000,  3000,  4000,5000])\n",
    "    markII[key].iloc[loc:].plot(label = 'Mark 2', xticks = [loc, 1000,  2000,  3000,  4000,5000])\n",
    "    #plt.title(key + ' S2')\n",
    "    plt.legend()\n",
    "    plt.xlabel('t')\n",
    "    plt.ylabel(name)\n",
    "    plt.xlim(xmin = loc)\n",
    "    if show == True:\n",
    "        plt.show()\n",
    "    else:\n",
    "        plt.savefig(direc + '/' + key.replace(\" \", \"\") + 'S2.jpg', dpi = 500)\n",
    "    plt.close()\n",
    "    \n",
    "def save_tables(dataframes, file_names, directory):\n",
    "    \n",
    "    for e, n in zip(dataframes, file_names):\n",
    "        \n",
    "        descrip = e.describe(percentiles = [])\n",
    "        \n",
    "        with open(directory + '/' + n +'.tex','w') as tf:\n",
    "            tf.write(descrip.to_latex())\n",
    "    \n",
    "def stats(file, keys, simunum):\n",
    "    '''\n",
    "    Extrae la ultima observacion de cada run\n",
    "    '''\n",
    "    data = {}\n",
    "    ex_file = pd.ExcelFile(file)\n",
    "    for key in keys:\n",
    "        \n",
    "        obs = []\n",
    "        \n",
    "        for e in range(0,simunum):\n",
    "            \n",
    "            df = pd.read_excel(ex_file, 'run' + str(e))\n",
    "            obs.append(df[key].iloc[-1])\n",
    "            \n",
    "        data[key] = obs\n",
    "        \n",
    "    return pd.DataFrame(data)\n",
    "\n",
    "def save_xls(list_dfs, xls_path):\n",
    "    \n",
    "    writer = pd.ExcelWriter(xls_path)\n",
    "    for n, df in enumerate(list_dfs):\n",
    "        df.to_excel(writer,'Sector%s' % (n+1))\n",
    "    writer.save()\n",
    "    writer.close()"
   ]
  },
  {
   "cell_type": "code",
   "execution_count": 4,
   "metadata": {},
   "outputs": [],
   "source": [
    "IN = '/Users/jorgecasinosbuj/Google Drive/Investigación/Fatas y Almudi/Análisis computacional/Datos/DatosJulio'\n",
    "OUT = '/Users/jorgecasinosbuj/Google Drive/Investigación/Fatas y Almudi/TFM/Tesis'"
   ]
  },
  {
   "cell_type": "markdown",
   "metadata": {},
   "source": [
    "Leemos los datos"
   ]
  },
  {
   "cell_type": "code",
   "execution_count": 5,
   "metadata": {},
   "outputs": [],
   "source": [
    "S1_base = pd.read_excel(IN + '/base.xlsx', sheet_name='Sector 1')\n",
    "S2_base = pd.read_excel(IN + '/base.xlsx', sheet_name='Sector 2')\n",
    "S1_markI = pd.read_excel(IN + '/markI_500.xlsx', sheet_name='Sector 1')\n",
    "S2_markI = pd.read_excel(IN + '/markI_500.xlsx', sheet_name='Sector 2')\n",
    "S1_markII = pd.read_excel(IN + '/markII_500.xlsx', sheet_name='Sector 1')\n",
    "S2_markII = pd.read_excel(IN + '/markII_500.xlsx', sheet_name='Sector 2')"
   ]
  },
  {
   "cell_type": "markdown",
   "metadata": {},
   "source": [
    "Creacion tablas de datos con las 500 observaciones finales"
   ]
  },
  {
   "cell_type": "code",
   "execution_count": 5,
   "metadata": {},
   "outputs": [],
   "source": [
    "st_base_S1 = stats(IN + '/baseS1.xlsx', S1_base.columns.get_values() , 500)\n",
    "st_base_S2 = stats(IN + '/baseS2.xlsx', S2_base.columns.get_values() , 500)\n",
    "save_xls([st_base_S1, st_base_S2] ,IN + '/stats_base.xlsx')\n"
   ]
  },
  {
   "cell_type": "code",
   "execution_count": 6,
   "metadata": {},
   "outputs": [],
   "source": [
    "st_markI_S1 = stats(IN + '/markI_500S1.xlsx', S1_base.columns.get_values() , 500)\n",
    "st_markI_S2 = stats(IN + '/markI_500S2.xlsx', S2_base.columns.get_values() , 500)\n",
    "save_xls([st_markI_S1, st_markI_S2] ,IN + '/stats_markI.xlsx')"
   ]
  },
  {
   "cell_type": "code",
   "execution_count": 7,
   "metadata": {},
   "outputs": [],
   "source": [
    "st_markI_S1 = stats(IN + '/markII_500S1.xlsx', S1_base.columns.get_values() , 500)\n",
    "st_markI_S2 = stats(IN + '/markII_500S2.xlsx', S2_base.columns.get_values() , 500)\n",
    "save_xls([st_markI_S1, st_markI_S2] ,IN + '/stats_markII.xlsx')"
   ]
  },
  {
   "cell_type": "code",
   "execution_count": 8,
   "metadata": {},
   "outputs": [],
   "source": [
    "stats_S1_base = pd.read_excel(IN + '/stats_base.xlsx', sheet_name = 'Sector1')\n",
    "stats_S2_base = pd.read_excel(IN + '/stats_base.xlsx', sheet_name='Sector2')\n",
    "stats_S1_markI = pd.read_excel(IN + '/stats_markI.xlsx', sheet_name = 'Sector1')\n",
    "stats_S2_markII = pd.read_excel(IN + '/stats_markI.xlsx', sheet_name='Sector2')\n"
   ]
  },
  {
   "cell_type": "markdown",
   "metadata": {},
   "source": [
    "Vamos a ver la información de la que disponemos"
   ]
  },
  {
   "cell_type": "code",
   "execution_count": 9,
   "metadata": {
    "scrolled": true
   },
   "outputs": [
    {
     "data": {
      "text/html": [
       "<div>\n",
       "<style scoped>\n",
       "    .dataframe tbody tr th:only-of-type {\n",
       "        vertical-align: middle;\n",
       "    }\n",
       "\n",
       "    .dataframe tbody tr th {\n",
       "        vertical-align: top;\n",
       "    }\n",
       "\n",
       "    .dataframe thead th {\n",
       "        text-align: right;\n",
       "    }\n",
       "</style>\n",
       "<table border=\"1\" class=\"dataframe\">\n",
       "  <thead>\n",
       "    <tr style=\"text-align: right;\">\n",
       "      <th></th>\n",
       "      <th>Firm number</th>\n",
       "      <th>Herfindhal</th>\n",
       "      <th>Inflation</th>\n",
       "      <th>prices</th>\n",
       "      <th>r</th>\n",
       "    </tr>\n",
       "  </thead>\n",
       "  <tbody>\n",
       "    <tr>\n",
       "      <th>0</th>\n",
       "      <td>1.000</td>\n",
       "      <td>10000.00000</td>\n",
       "      <td>NaN</td>\n",
       "      <td>0.03000</td>\n",
       "      <td>0.51352</td>\n",
       "    </tr>\n",
       "    <tr>\n",
       "      <th>1</th>\n",
       "      <td>1.436</td>\n",
       "      <td>7730.00000</td>\n",
       "      <td>-0.01064</td>\n",
       "      <td>0.02968</td>\n",
       "      <td>0.50938</td>\n",
       "    </tr>\n",
       "    <tr>\n",
       "      <th>2</th>\n",
       "      <td>1.712</td>\n",
       "      <td>7005.55556</td>\n",
       "      <td>0.02779</td>\n",
       "      <td>0.02554</td>\n",
       "      <td>0.51348</td>\n",
       "    </tr>\n",
       "    <tr>\n",
       "      <th>3</th>\n",
       "      <td>1.902</td>\n",
       "      <td>6639.72222</td>\n",
       "      <td>-0.10692</td>\n",
       "      <td>0.02039</td>\n",
       "      <td>0.51204</td>\n",
       "    </tr>\n",
       "    <tr>\n",
       "      <th>4</th>\n",
       "      <td>1.986</td>\n",
       "      <td>6645.20000</td>\n",
       "      <td>-0.11107</td>\n",
       "      <td>0.01678</td>\n",
       "      <td>0.51378</td>\n",
       "    </tr>\n",
       "  </tbody>\n",
       "</table>\n",
       "</div>"
      ],
      "text/plain": [
       "   Firm number   Herfindhal  Inflation   prices        r\n",
       "0        1.000  10000.00000        NaN  0.03000  0.51352\n",
       "1        1.436   7730.00000   -0.01064  0.02968  0.50938\n",
       "2        1.712   7005.55556    0.02779  0.02554  0.51348\n",
       "3        1.902   6639.72222   -0.10692  0.02039  0.51204\n",
       "4        1.986   6645.20000   -0.11107  0.01678  0.51378"
      ]
     },
     "execution_count": 9,
     "metadata": {},
     "output_type": "execute_result"
    }
   ],
   "source": [
    "S1_base.head()"
   ]
  },
  {
   "cell_type": "code",
   "execution_count": 10,
   "metadata": {
    "scrolled": false
   },
   "outputs": [
    {
     "data": {
      "text/html": [
       "<div>\n",
       "<style scoped>\n",
       "    .dataframe tbody tr th:only-of-type {\n",
       "        vertical-align: middle;\n",
       "    }\n",
       "\n",
       "    .dataframe tbody tr th {\n",
       "        vertical-align: top;\n",
       "    }\n",
       "\n",
       "    .dataframe thead th {\n",
       "        text-align: right;\n",
       "    }\n",
       "</style>\n",
       "<table border=\"1\" class=\"dataframe\">\n",
       "  <thead>\n",
       "    <tr style=\"text-align: right;\">\n",
       "      <th></th>\n",
       "      <th>Firm number</th>\n",
       "      <th>Herfindhal</th>\n",
       "      <th>Inflation</th>\n",
       "      <th>prices</th>\n",
       "    </tr>\n",
       "  </thead>\n",
       "  <tbody>\n",
       "    <tr>\n",
       "      <th>0</th>\n",
       "      <td>1.000</td>\n",
       "      <td>10000.00000</td>\n",
       "      <td>NaN</td>\n",
       "      <td>0.53000</td>\n",
       "    </tr>\n",
       "    <tr>\n",
       "      <th>1</th>\n",
       "      <td>1.980</td>\n",
       "      <td>9799.19571</td>\n",
       "      <td>-0.12512</td>\n",
       "      <td>0.46369</td>\n",
       "    </tr>\n",
       "    <tr>\n",
       "      <th>2</th>\n",
       "      <td>2.976</td>\n",
       "      <td>9658.63003</td>\n",
       "      <td>0.07842</td>\n",
       "      <td>0.34416</td>\n",
       "    </tr>\n",
       "    <tr>\n",
       "      <th>3</th>\n",
       "      <td>3.970</td>\n",
       "      <td>9375.04378</td>\n",
       "      <td>-0.12565</td>\n",
       "      <td>0.25215</td>\n",
       "    </tr>\n",
       "    <tr>\n",
       "      <th>4</th>\n",
       "      <td>4.960</td>\n",
       "      <td>8986.04901</td>\n",
       "      <td>-0.19459</td>\n",
       "      <td>0.18203</td>\n",
       "    </tr>\n",
       "  </tbody>\n",
       "</table>\n",
       "</div>"
      ],
      "text/plain": [
       "   Firm number   Herfindhal  Inflation   prices\n",
       "0        1.000  10000.00000        NaN  0.53000\n",
       "1        1.980   9799.19571   -0.12512  0.46369\n",
       "2        2.976   9658.63003    0.07842  0.34416\n",
       "3        3.970   9375.04378   -0.12565  0.25215\n",
       "4        4.960   8986.04901   -0.19459  0.18203"
      ]
     },
     "execution_count": 10,
     "metadata": {},
     "output_type": "execute_result"
    }
   ],
   "source": [
    "S2_base.head()"
   ]
  },
  {
   "cell_type": "markdown",
   "metadata": {},
   "source": [
    "Representamos las series temporales:"
   ]
  },
  {
   "cell_type": "code",
   "execution_count": 6,
   "metadata": {
    "scrolled": true
   },
   "outputs": [
    {
     "data": {
      "image/png": "[encoded data removed]",
      "text/plain": [
       "<matplotlib.figure.Figure at 0x10b7ab470>"
      ]
     },
     "metadata": {},
     "output_type": "display_data"
    },
    {
     "data": {
      "image/png": "[encoded data removed]",
      "text/plain": [
       "<matplotlib.figure.Figure at 0x10b7032b0>"
      ]
     },
     "metadata": {},
     "output_type": "display_data"
    },
    {
     "data": {
      "image/png": "[encoded data removed]",
      "text/plain": [
       "<matplotlib.figure.Figure at 0x10b33ab00>"
      ]
     },
     "metadata": {},
     "output_type": "display_data"
    },
    {
     "data": {
      "image/png": "[encoded data removed]",
      "text/plain": [
       "<matplotlib.figure.Figure at 0x10b4e4828>"
      ]
     },
     "metadata": {},
     "output_type": "display_data"
    },
    {
     "data": {
      "image/png": "[encoded data removed]",
      "text/plain": [
       "<matplotlib.figure.Figure at 0x10b66aa20>"
      ]
     },
     "metadata": {},
     "output_type": "display_data"
    }
   ],
   "source": [
    "nombres = ['Número de empresas', 'Índice de Herfindhal', r'$\\Delta \\overline{p}$', r'$\\overline{p}$', \n",
    "           r'$\\overline{r}$']\n",
    "for e, z in zip(S1_base.columns.get_values(), nombres):\n",
    "    time_series_S1(e, z, OUT, S1_base, S1_markI, S1_markII, loc = 10, show = True)\n"
   ]
  },
  {
   "cell_type": "code",
   "execution_count": 7,
   "metadata": {},
   "outputs": [
    {
     "data": {
      "image/png": "[encoded data removed]",
      "text/plain": [
       "<matplotlib.figure.Figure at 0x10b861f28>"
      ]
     },
     "metadata": {},
     "output_type": "display_data"
    },
    {
     "data": {
      "image/png": "[encoded data removed]",
      "text/plain": [
       "<matplotlib.figure.Figure at 0x10b9430b8>"
      ]
     },
     "metadata": {},
     "output_type": "display_data"
    },
    {
     "data": {
      "image/png": "[encoded data removed]",
      "text/plain": [
       "<matplotlib.figure.Figure at 0x10b6a4080>"
      ]
     },
     "metadata": {},
     "output_type": "display_data"
    },
    {
     "data": {
      "image/png": "[encoded data removed]",
      "text/plain": [
       "<matplotlib.figure.Figure at 0x10b5c8470>"
      ]
     },
     "metadata": {},
     "output_type": "display_data"
    }
   ],
   "source": [
    "nombres2 = ['Número de empresas', 'Índice de Herfindhal', r'$\\Delta \\overline{p}$', r'$\\overline{p}$']\n",
    "for e,z in zip(S2_base.columns.get_values(), nombres2):\n",
    "    time_series_S2(e, z, OUT, S2_base, S2_markI, S2_markII, loc = 100, show = True)"
   ]
  },
  {
   "cell_type": "markdown",
   "metadata": {},
   "source": [
    "Representamos las series temporales del escenario **base**"
   ]
  },
  {
   "cell_type": "code",
   "execution_count": 13,
   "metadata": {},
   "outputs": [],
   "source": [
    "keys = S1_base.columns.get_values()\n",
    "names = ['Número de empresas', 'Índice de Herfindhal', 'Inflación', r'$\\overline{p}$', r'$\\overline{r}$']\n",
    "loc1= 50\n",
    "for e, y in zip(keys, names):\n",
    "    S1_base[e][loc1:].plot(xticks = [loc1, 1000,  2000,  3000,  4000,5000])\n",
    "    plt.xlim(xmin =loc1)\n",
    "    plt.xlabel(r'$t$')\n",
    "    plt.ylabel(y)\n",
    "    plt.savefig(OUT + '/S1base' + e.replace(\" \", \"\") +'.jpg', dpi = 500)\n",
    "    plt.close()\n"
   ]
  },
  {
   "cell_type": "code",
   "execution_count": 14,
   "metadata": {},
   "outputs": [],
   "source": [
    "keys2 = S2_base.columns.get_values()\n",
    "names2 = ['Número de empresas', 'Índice de Herfindhal', 'Inflación', r'$\\overline{p}$']\n",
    "loc1 = 0\n",
    "loc2 = 100\n",
    "for e, y in zip(keys2, names2):\n",
    "    if e == 'Firm number':\n",
    "        S2_base[e].iloc[loc1:].plot(xticks = [loc1, 1000,  2000,  3000,  4000,5000])\n",
    "    else:\n",
    "        S2_base[e].iloc[loc2:].plot(xticks = [loc2, 1000,  2000,  3000,  4000,5000])\n",
    "        plt.xlim(xmin = loc2)\n",
    "    plt.xlabel(r'$t$')\n",
    "    plt.ylabel(y)\n",
    "    plt.savefig(OUT + '/S2base' + e.replace(\" \", \"\") +'.jpg', dpi = 500)\n",
    "    plt.close()\n",
    "\n"
   ]
  },
  {
   "cell_type": "markdown",
   "metadata": {},
   "source": [
    "Estadísticos descriptivos de las 500 observaciones finales"
   ]
  },
  {
   "cell_type": "code",
   "execution_count": 16,
   "metadata": {},
   "outputs": [],
   "source": [
    "baseS1 = pd.read_excel(IN + '/stats_base.xlsx', sheet_name='Sector1')\n",
    "baseS2 = pd.read_excel(IN + '/stats_base.xlsx', sheet_name='Sector2')\n",
    "markIS1 = pd.read_excel(IN + '/stats_markI.xlsx', sheet_name='Sector1')\n",
    "markIS2 = pd.read_excel(IN + '/stats_markI.xlsx', sheet_name='Sector2')\n",
    "markIIS1 = pd.read_excel(IN + '/stats_markII.xlsx', sheet_name='Sector1')\n",
    "markIIS2 = pd.read_excel(IN + '/stats_markII.xlsx', sheet_name='Sector2')"
   ]
  },
  {
   "cell_type": "markdown",
   "metadata": {},
   "source": [
    "Por comodidad exportamos estos estadísticos descriptivos a un fichero de excel"
   ]
  },
  {
   "cell_type": "code",
   "execution_count": 17,
   "metadata": {},
   "outputs": [],
   "source": [
    "writer = pd.ExcelWriter(IN + '/descriptivos.xlsx')\n",
    "dfs = [baseS1, baseS2, markIS1, markIS2, markIIS1, markIIS2]\n",
    "keys = ['baseS1', 'baseS2', 'markIS1', 'markIS2', 'markIIS1', 'markIIS2']\n",
    "for key, df in zip(keys, dfs):\n",
    "    df.describe().round(4).to_excel(writer,key)\n",
    "writer.save()\n",
    "writer.close()"
   ]
  },
  {
   "cell_type": "code",
   "execution_count": 18,
   "metadata": {
    "scrolled": true
   },
   "outputs": [
    {
     "data": {
      "text/html": [
       "<div>\n",
       "<style scoped>\n",
       "    .dataframe tbody tr th:only-of-type {\n",
       "        vertical-align: middle;\n",
       "    }\n",
       "\n",
       "    .dataframe tbody tr th {\n",
       "        vertical-align: top;\n",
       "    }\n",
       "\n",
       "    .dataframe thead th {\n",
       "        text-align: right;\n",
       "    }\n",
       "</style>\n",
       "<table border=\"1\" class=\"dataframe\">\n",
       "  <thead>\n",
       "    <tr style=\"text-align: right;\">\n",
       "      <th></th>\n",
       "      <th>Firm number</th>\n",
       "      <th>Herfindhal</th>\n",
       "      <th>Inflation</th>\n",
       "      <th>prices</th>\n",
       "      <th>r</th>\n",
       "    </tr>\n",
       "  </thead>\n",
       "  <tbody>\n",
       "    <tr>\n",
       "      <th>count</th>\n",
       "      <td>500.000000</td>\n",
       "      <td>500.000000</td>\n",
       "      <td>500.000000</td>\n",
       "      <td>500.000000</td>\n",
       "      <td>500.000000</td>\n",
       "    </tr>\n",
       "    <tr>\n",
       "      <th>mean</th>\n",
       "      <td>12.628000</td>\n",
       "      <td>979.808131</td>\n",
       "      <td>-0.000004</td>\n",
       "      <td>0.010504</td>\n",
       "      <td>0.345209</td>\n",
       "    </tr>\n",
       "    <tr>\n",
       "      <th>std</th>\n",
       "      <td>1.675479</td>\n",
       "      <td>146.299348</td>\n",
       "      <td>0.007486</td>\n",
       "      <td>0.000099</td>\n",
       "      <td>0.083926</td>\n",
       "    </tr>\n",
       "    <tr>\n",
       "      <th>min</th>\n",
       "      <td>8.000000</td>\n",
       "      <td>651.041670</td>\n",
       "      <td>-0.029410</td>\n",
       "      <td>0.010310</td>\n",
       "      <td>0.120520</td>\n",
       "    </tr>\n",
       "    <tr>\n",
       "      <th>25%</th>\n",
       "      <td>11.000000</td>\n",
       "      <td>874.074070</td>\n",
       "      <td>-0.004540</td>\n",
       "      <td>0.010430</td>\n",
       "      <td>0.288400</td>\n",
       "    </tr>\n",
       "    <tr>\n",
       "      <th>50%</th>\n",
       "      <td>13.000000</td>\n",
       "      <td>960.743800</td>\n",
       "      <td>-0.000075</td>\n",
       "      <td>0.010490</td>\n",
       "      <td>0.343515</td>\n",
       "    </tr>\n",
       "    <tr>\n",
       "      <th>75%</th>\n",
       "      <td>14.000000</td>\n",
       "      <td>1060.000460</td>\n",
       "      <td>0.004460</td>\n",
       "      <td>0.010560</td>\n",
       "      <td>0.397973</td>\n",
       "    </tr>\n",
       "    <tr>\n",
       "      <th>max</th>\n",
       "      <td>18.000000</td>\n",
       "      <td>1774.691360</td>\n",
       "      <td>0.025580</td>\n",
       "      <td>0.010880</td>\n",
       "      <td>0.673300</td>\n",
       "    </tr>\n",
       "  </tbody>\n",
       "</table>\n",
       "</div>"
      ],
      "text/plain": [
       "       Firm number   Herfindhal   Inflation      prices           r\n",
       "count   500.000000   500.000000  500.000000  500.000000  500.000000\n",
       "mean     12.628000   979.808131   -0.000004    0.010504    0.345209\n",
       "std       1.675479   146.299348    0.007486    0.000099    0.083926\n",
       "min       8.000000   651.041670   -0.029410    0.010310    0.120520\n",
       "25%      11.000000   874.074070   -0.004540    0.010430    0.288400\n",
       "50%      13.000000   960.743800   -0.000075    0.010490    0.343515\n",
       "75%      14.000000  1060.000460    0.004460    0.010560    0.397973\n",
       "max      18.000000  1774.691360    0.025580    0.010880    0.673300"
      ]
     },
     "execution_count": 18,
     "metadata": {},
     "output_type": "execute_result"
    }
   ],
   "source": [
    "markIS1.describe()"
   ]
  },
  {
   "cell_type": "code",
   "execution_count": 19,
   "metadata": {},
   "outputs": [
    {
     "data": {
      "text/html": [
       "<div>\n",
       "<style scoped>\n",
       "    .dataframe tbody tr th:only-of-type {\n",
       "        vertical-align: middle;\n",
       "    }\n",
       "\n",
       "    .dataframe tbody tr th {\n",
       "        vertical-align: top;\n",
       "    }\n",
       "\n",
       "    .dataframe thead th {\n",
       "        text-align: right;\n",
       "    }\n",
       "</style>\n",
       "<table border=\"1\" class=\"dataframe\">\n",
       "  <thead>\n",
       "    <tr style=\"text-align: right;\">\n",
       "      <th></th>\n",
       "      <th>Firm number</th>\n",
       "      <th>Herfindhal</th>\n",
       "      <th>Inflation</th>\n",
       "      <th>prices</th>\n",
       "      <th>r</th>\n",
       "    </tr>\n",
       "  </thead>\n",
       "  <tbody>\n",
       "    <tr>\n",
       "      <th>count</th>\n",
       "      <td>500.000000</td>\n",
       "      <td>500.000000</td>\n",
       "      <td>500.000000</td>\n",
       "      <td>500.000000</td>\n",
       "      <td>500.000000</td>\n",
       "    </tr>\n",
       "    <tr>\n",
       "      <th>mean</th>\n",
       "      <td>1.200000</td>\n",
       "      <td>9855.209568</td>\n",
       "      <td>0.000753</td>\n",
       "      <td>0.012477</td>\n",
       "      <td>0.498961</td>\n",
       "    </tr>\n",
       "    <tr>\n",
       "      <th>std</th>\n",
       "      <td>1.587779</td>\n",
       "      <td>1136.875387</td>\n",
       "      <td>0.012671</td>\n",
       "      <td>0.000310</td>\n",
       "      <td>0.289267</td>\n",
       "    </tr>\n",
       "    <tr>\n",
       "      <th>min</th>\n",
       "      <td>1.000000</td>\n",
       "      <td>773.391020</td>\n",
       "      <td>-0.014500</td>\n",
       "      <td>0.010270</td>\n",
       "      <td>0.000130</td>\n",
       "    </tr>\n",
       "    <tr>\n",
       "      <th>25%</th>\n",
       "      <td>1.000000</td>\n",
       "      <td>10000.000000</td>\n",
       "      <td>0.000000</td>\n",
       "      <td>0.012500</td>\n",
       "      <td>0.239497</td>\n",
       "    </tr>\n",
       "    <tr>\n",
       "      <th>50%</th>\n",
       "      <td>1.000000</td>\n",
       "      <td>10000.000000</td>\n",
       "      <td>0.000000</td>\n",
       "      <td>0.012500</td>\n",
       "      <td>0.501530</td>\n",
       "    </tr>\n",
       "    <tr>\n",
       "      <th>75%</th>\n",
       "      <td>1.000000</td>\n",
       "      <td>10000.000000</td>\n",
       "      <td>0.000000</td>\n",
       "      <td>0.012500</td>\n",
       "      <td>0.747270</td>\n",
       "    </tr>\n",
       "    <tr>\n",
       "      <th>max</th>\n",
       "      <td>16.000000</td>\n",
       "      <td>10000.000000</td>\n",
       "      <td>0.200000</td>\n",
       "      <td>0.015000</td>\n",
       "      <td>0.998800</td>\n",
       "    </tr>\n",
       "  </tbody>\n",
       "</table>\n",
       "</div>"
      ],
      "text/plain": [
       "       Firm number    Herfindhal   Inflation      prices           r\n",
       "count   500.000000    500.000000  500.000000  500.000000  500.000000\n",
       "mean      1.200000   9855.209568    0.000753    0.012477    0.498961\n",
       "std       1.587779   1136.875387    0.012671    0.000310    0.289267\n",
       "min       1.000000    773.391020   -0.014500    0.010270    0.000130\n",
       "25%       1.000000  10000.000000    0.000000    0.012500    0.239497\n",
       "50%       1.000000  10000.000000    0.000000    0.012500    0.501530\n",
       "75%       1.000000  10000.000000    0.000000    0.012500    0.747270\n",
       "max      16.000000  10000.000000    0.200000    0.015000    0.998800"
      ]
     },
     "execution_count": 19,
     "metadata": {},
     "output_type": "execute_result"
    }
   ],
   "source": [
    "markIIS1.describe()"
   ]
  },
  {
   "cell_type": "code",
   "execution_count": 20,
   "metadata": {},
   "outputs": [
    {
     "data": {
      "text/html": [
       "<div>\n",
       "<style scoped>\n",
       "    .dataframe tbody tr th:only-of-type {\n",
       "        vertical-align: middle;\n",
       "    }\n",
       "\n",
       "    .dataframe tbody tr th {\n",
       "        vertical-align: top;\n",
       "    }\n",
       "\n",
       "    .dataframe thead th {\n",
       "        text-align: right;\n",
       "    }\n",
       "</style>\n",
       "<table border=\"1\" class=\"dataframe\">\n",
       "  <thead>\n",
       "    <tr style=\"text-align: right;\">\n",
       "      <th></th>\n",
       "      <th>Firm number</th>\n",
       "      <th>Herfindhal</th>\n",
       "      <th>Inflation</th>\n",
       "      <th>prices</th>\n",
       "    </tr>\n",
       "  </thead>\n",
       "  <tbody>\n",
       "    <tr>\n",
       "      <th>count</th>\n",
       "      <td>500.000000</td>\n",
       "      <td>500.000000</td>\n",
       "      <td>500.000000</td>\n",
       "      <td>500.000000</td>\n",
       "    </tr>\n",
       "    <tr>\n",
       "      <th>mean</th>\n",
       "      <td>50.560000</td>\n",
       "      <td>281.861635</td>\n",
       "      <td>-0.000172</td>\n",
       "      <td>0.010598</td>\n",
       "    </tr>\n",
       "    <tr>\n",
       "      <th>std</th>\n",
       "      <td>3.703219</td>\n",
       "      <td>31.829307</td>\n",
       "      <td>0.004478</td>\n",
       "      <td>0.000080</td>\n",
       "    </tr>\n",
       "    <tr>\n",
       "      <th>min</th>\n",
       "      <td>38.000000</td>\n",
       "      <td>201.628040</td>\n",
       "      <td>-0.014150</td>\n",
       "      <td>0.010400</td>\n",
       "    </tr>\n",
       "    <tr>\n",
       "      <th>25%</th>\n",
       "      <td>48.000000</td>\n",
       "      <td>261.076625</td>\n",
       "      <td>-0.002823</td>\n",
       "      <td>0.010540</td>\n",
       "    </tr>\n",
       "    <tr>\n",
       "      <th>50%</th>\n",
       "      <td>51.000000</td>\n",
       "      <td>277.501935</td>\n",
       "      <td>-0.000200</td>\n",
       "      <td>0.010590</td>\n",
       "    </tr>\n",
       "    <tr>\n",
       "      <th>75%</th>\n",
       "      <td>53.000000</td>\n",
       "      <td>298.861305</td>\n",
       "      <td>0.002410</td>\n",
       "      <td>0.010640</td>\n",
       "    </tr>\n",
       "    <tr>\n",
       "      <th>max</th>\n",
       "      <td>63.000000</td>\n",
       "      <td>481.953340</td>\n",
       "      <td>0.019260</td>\n",
       "      <td>0.010900</td>\n",
       "    </tr>\n",
       "  </tbody>\n",
       "</table>\n",
       "</div>"
      ],
      "text/plain": [
       "       Firm number  Herfindhal   Inflation      prices\n",
       "count   500.000000  500.000000  500.000000  500.000000\n",
       "mean     50.560000  281.861635   -0.000172    0.010598\n",
       "std       3.703219   31.829307    0.004478    0.000080\n",
       "min      38.000000  201.628040   -0.014150    0.010400\n",
       "25%      48.000000  261.076625   -0.002823    0.010540\n",
       "50%      51.000000  277.501935   -0.000200    0.010590\n",
       "75%      53.000000  298.861305    0.002410    0.010640\n",
       "max      63.000000  481.953340    0.019260    0.010900"
      ]
     },
     "execution_count": 20,
     "metadata": {},
     "output_type": "execute_result"
    }
   ],
   "source": [
    "baseS2.describe()"
   ]
  },
  {
   "cell_type": "code",
   "execution_count": 21,
   "metadata": {},
   "outputs": [
    {
     "data": {
      "text/html": [
       "<div>\n",
       "<style scoped>\n",
       "    .dataframe tbody tr th:only-of-type {\n",
       "        vertical-align: middle;\n",
       "    }\n",
       "\n",
       "    .dataframe tbody tr th {\n",
       "        vertical-align: top;\n",
       "    }\n",
       "\n",
       "    .dataframe thead th {\n",
       "        text-align: right;\n",
       "    }\n",
       "</style>\n",
       "<table border=\"1\" class=\"dataframe\">\n",
       "  <thead>\n",
       "    <tr style=\"text-align: right;\">\n",
       "      <th></th>\n",
       "      <th>Firm number</th>\n",
       "      <th>Herfindhal</th>\n",
       "      <th>Inflation</th>\n",
       "      <th>prices</th>\n",
       "      <th>r</th>\n",
       "    </tr>\n",
       "  </thead>\n",
       "  <tbody>\n",
       "    <tr>\n",
       "      <th>count</th>\n",
       "      <td>500.000000</td>\n",
       "      <td>500.000000</td>\n",
       "      <td>500.000000</td>\n",
       "      <td>500.000000</td>\n",
       "      <td>500.000000</td>\n",
       "    </tr>\n",
       "    <tr>\n",
       "      <th>mean</th>\n",
       "      <td>1.200000</td>\n",
       "      <td>9855.209568</td>\n",
       "      <td>0.000753</td>\n",
       "      <td>0.012477</td>\n",
       "      <td>0.498961</td>\n",
       "    </tr>\n",
       "    <tr>\n",
       "      <th>std</th>\n",
       "      <td>1.587779</td>\n",
       "      <td>1136.875387</td>\n",
       "      <td>0.012671</td>\n",
       "      <td>0.000310</td>\n",
       "      <td>0.289267</td>\n",
       "    </tr>\n",
       "    <tr>\n",
       "      <th>min</th>\n",
       "      <td>1.000000</td>\n",
       "      <td>773.391020</td>\n",
       "      <td>-0.014500</td>\n",
       "      <td>0.010270</td>\n",
       "      <td>0.000130</td>\n",
       "    </tr>\n",
       "    <tr>\n",
       "      <th>25%</th>\n",
       "      <td>1.000000</td>\n",
       "      <td>10000.000000</td>\n",
       "      <td>0.000000</td>\n",
       "      <td>0.012500</td>\n",
       "      <td>0.239497</td>\n",
       "    </tr>\n",
       "    <tr>\n",
       "      <th>50%</th>\n",
       "      <td>1.000000</td>\n",
       "      <td>10000.000000</td>\n",
       "      <td>0.000000</td>\n",
       "      <td>0.012500</td>\n",
       "      <td>0.501530</td>\n",
       "    </tr>\n",
       "    <tr>\n",
       "      <th>75%</th>\n",
       "      <td>1.000000</td>\n",
       "      <td>10000.000000</td>\n",
       "      <td>0.000000</td>\n",
       "      <td>0.012500</td>\n",
       "      <td>0.747270</td>\n",
       "    </tr>\n",
       "    <tr>\n",
       "      <th>max</th>\n",
       "      <td>16.000000</td>\n",
       "      <td>10000.000000</td>\n",
       "      <td>0.200000</td>\n",
       "      <td>0.015000</td>\n",
       "      <td>0.998800</td>\n",
       "    </tr>\n",
       "  </tbody>\n",
       "</table>\n",
       "</div>"
      ],
      "text/plain": [
       "       Firm number    Herfindhal   Inflation      prices           r\n",
       "count   500.000000    500.000000  500.000000  500.000000  500.000000\n",
       "mean      1.200000   9855.209568    0.000753    0.012477    0.498961\n",
       "std       1.587779   1136.875387    0.012671    0.000310    0.289267\n",
       "min       1.000000    773.391020   -0.014500    0.010270    0.000130\n",
       "25%       1.000000  10000.000000    0.000000    0.012500    0.239497\n",
       "50%       1.000000  10000.000000    0.000000    0.012500    0.501530\n",
       "75%       1.000000  10000.000000    0.000000    0.012500    0.747270\n",
       "max      16.000000  10000.000000    0.200000    0.015000    0.998800"
      ]
     },
     "execution_count": 21,
     "metadata": {},
     "output_type": "execute_result"
    }
   ],
   "source": [
    "markIIS1.describe()"
   ]
  },
  {
   "cell_type": "code",
   "execution_count": 22,
   "metadata": {
    "scrolled": true
   },
   "outputs": [
    {
     "data": {
      "text/html": [
       "<div>\n",
       "<style scoped>\n",
       "    .dataframe tbody tr th:only-of-type {\n",
       "        vertical-align: middle;\n",
       "    }\n",
       "\n",
       "    .dataframe tbody tr th {\n",
       "        vertical-align: top;\n",
       "    }\n",
       "\n",
       "    .dataframe thead th {\n",
       "        text-align: right;\n",
       "    }\n",
       "</style>\n",
       "<table border=\"1\" class=\"dataframe\">\n",
       "  <thead>\n",
       "    <tr style=\"text-align: right;\">\n",
       "      <th></th>\n",
       "      <th>Firm number</th>\n",
       "      <th>Herfindhal</th>\n",
       "      <th>Inflation</th>\n",
       "      <th>prices</th>\n",
       "    </tr>\n",
       "  </thead>\n",
       "  <tbody>\n",
       "    <tr>\n",
       "      <th>count</th>\n",
       "      <td>500.000000</td>\n",
       "      <td>500.000000</td>\n",
       "      <td>500.000000</td>\n",
       "      <td>500.000000</td>\n",
       "    </tr>\n",
       "    <tr>\n",
       "      <th>mean</th>\n",
       "      <td>41.948000</td>\n",
       "      <td>364.700786</td>\n",
       "      <td>0.000155</td>\n",
       "      <td>0.010884</td>\n",
       "    </tr>\n",
       "    <tr>\n",
       "      <th>std</th>\n",
       "      <td>3.613227</td>\n",
       "      <td>47.189796</td>\n",
       "      <td>0.008112</td>\n",
       "      <td>0.000135</td>\n",
       "    </tr>\n",
       "    <tr>\n",
       "      <th>min</th>\n",
       "      <td>32.000000</td>\n",
       "      <td>269.792220</td>\n",
       "      <td>-0.027650</td>\n",
       "      <td>0.010590</td>\n",
       "    </tr>\n",
       "    <tr>\n",
       "      <th>25%</th>\n",
       "      <td>39.000000</td>\n",
       "      <td>331.248810</td>\n",
       "      <td>-0.004445</td>\n",
       "      <td>0.010790</td>\n",
       "    </tr>\n",
       "    <tr>\n",
       "      <th>50%</th>\n",
       "      <td>42.000000</td>\n",
       "      <td>357.172740</td>\n",
       "      <td>0.000180</td>\n",
       "      <td>0.010870</td>\n",
       "    </tr>\n",
       "    <tr>\n",
       "      <th>75%</th>\n",
       "      <td>45.000000</td>\n",
       "      <td>390.823170</td>\n",
       "      <td>0.004950</td>\n",
       "      <td>0.010960</td>\n",
       "    </tr>\n",
       "    <tr>\n",
       "      <th>max</th>\n",
       "      <td>55.000000</td>\n",
       "      <td>609.334980</td>\n",
       "      <td>0.032390</td>\n",
       "      <td>0.011430</td>\n",
       "    </tr>\n",
       "  </tbody>\n",
       "</table>\n",
       "</div>"
      ],
      "text/plain": [
       "       Firm number  Herfindhal   Inflation      prices\n",
       "count   500.000000  500.000000  500.000000  500.000000\n",
       "mean     41.948000  364.700786    0.000155    0.010884\n",
       "std       3.613227   47.189796    0.008112    0.000135\n",
       "min      32.000000  269.792220   -0.027650    0.010590\n",
       "25%      39.000000  331.248810   -0.004445    0.010790\n",
       "50%      42.000000  357.172740    0.000180    0.010870\n",
       "75%      45.000000  390.823170    0.004950    0.010960\n",
       "max      55.000000  609.334980    0.032390    0.011430"
      ]
     },
     "execution_count": 22,
     "metadata": {},
     "output_type": "execute_result"
    }
   ],
   "source": [
    "markIS2.describe()"
   ]
  },
  {
   "cell_type": "code",
   "execution_count": 23,
   "metadata": {
    "scrolled": true
   },
   "outputs": [
    {
     "data": {
      "text/html": [
       "<div>\n",
       "<style scoped>\n",
       "    .dataframe tbody tr th:only-of-type {\n",
       "        vertical-align: middle;\n",
       "    }\n",
       "\n",
       "    .dataframe tbody tr th {\n",
       "        vertical-align: top;\n",
       "    }\n",
       "\n",
       "    .dataframe thead th {\n",
       "        text-align: right;\n",
       "    }\n",
       "</style>\n",
       "<table border=\"1\" class=\"dataframe\">\n",
       "  <thead>\n",
       "    <tr style=\"text-align: right;\">\n",
       "      <th></th>\n",
       "      <th>Firm number</th>\n",
       "      <th>Herfindhal</th>\n",
       "      <th>Inflation</th>\n",
       "      <th>prices</th>\n",
       "    </tr>\n",
       "  </thead>\n",
       "  <tbody>\n",
       "    <tr>\n",
       "      <th>count</th>\n",
       "      <td>500.000000</td>\n",
       "      <td>500.000000</td>\n",
       "      <td>500.000000</td>\n",
       "      <td>500.000000</td>\n",
       "    </tr>\n",
       "    <tr>\n",
       "      <th>mean</th>\n",
       "      <td>101.862000</td>\n",
       "      <td>106.860373</td>\n",
       "      <td>0.000787</td>\n",
       "      <td>0.012614</td>\n",
       "    </tr>\n",
       "    <tr>\n",
       "      <th>std</th>\n",
       "      <td>14.906353</td>\n",
       "      <td>58.404029</td>\n",
       "      <td>0.012978</td>\n",
       "      <td>0.000373</td>\n",
       "    </tr>\n",
       "    <tr>\n",
       "      <th>min</th>\n",
       "      <td>35.000000</td>\n",
       "      <td>70.049300</td>\n",
       "      <td>-0.044470</td>\n",
       "      <td>0.010590</td>\n",
       "    </tr>\n",
       "    <tr>\n",
       "      <th>25%</th>\n",
       "      <td>95.000000</td>\n",
       "      <td>89.889045</td>\n",
       "      <td>0.000000</td>\n",
       "      <td>0.012600</td>\n",
       "    </tr>\n",
       "    <tr>\n",
       "      <th>50%</th>\n",
       "      <td>95.000000</td>\n",
       "      <td>105.263170</td>\n",
       "      <td>0.000000</td>\n",
       "      <td>0.012620</td>\n",
       "    </tr>\n",
       "    <tr>\n",
       "      <th>75%</th>\n",
       "      <td>112.000000</td>\n",
       "      <td>105.263170</td>\n",
       "      <td>0.000000</td>\n",
       "      <td>0.012620</td>\n",
       "    </tr>\n",
       "    <tr>\n",
       "      <th>max</th>\n",
       "      <td>144.000000</td>\n",
       "      <td>1012.719200</td>\n",
       "      <td>0.200000</td>\n",
       "      <td>0.017480</td>\n",
       "    </tr>\n",
       "  </tbody>\n",
       "</table>\n",
       "</div>"
      ],
      "text/plain": [
       "       Firm number   Herfindhal   Inflation      prices\n",
       "count   500.000000   500.000000  500.000000  500.000000\n",
       "mean    101.862000   106.860373    0.000787    0.012614\n",
       "std      14.906353    58.404029    0.012978    0.000373\n",
       "min      35.000000    70.049300   -0.044470    0.010590\n",
       "25%      95.000000    89.889045    0.000000    0.012600\n",
       "50%      95.000000   105.263170    0.000000    0.012620\n",
       "75%     112.000000   105.263170    0.000000    0.012620\n",
       "max     144.000000  1012.719200    0.200000    0.017480"
      ]
     },
     "execution_count": 23,
     "metadata": {},
     "output_type": "execute_result"
    }
   ],
   "source": [
    "markIIS2.describe()"
   ]
  }
 ],
 "metadata": {
  "kernelspec": {
   "display_name": "Python 3",
   "language": "python",
   "name": "python3"
  },
  "language_info": {
   "codemirror_mode": {
    "name": "ipython",
    "version": 3
   },
   "file_extension": ".py",
   "mimetype": "text/x-python",
   "name": "python",
   "nbconvert_exporter": "python",
   "pygments_lexer": "ipython3",
   "version": "3.6.4"
  }
 },
 "nbformat": 4,
 "nbformat_minor": 2
}
